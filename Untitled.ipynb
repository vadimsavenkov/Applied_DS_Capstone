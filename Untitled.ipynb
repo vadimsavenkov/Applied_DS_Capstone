{
 "cells": [
  {
   "cell_type": "code",
   "execution_count": 11,
   "id": "3180cdc5",
   "metadata": {},
   "outputs": [
    {
     "name": "stdout",
     "output_type": "stream",
     "text": [
      "Requirement already satisfied: pandas in c:\\users\\zl0423\\anaconda3\\lib\\site-packages (1.1.5)\n",
      "Requirement already satisfied: dash in c:\\users\\zl0423\\anaconda3\\lib\\site-packages (2.5.1)\n",
      "Requirement already satisfied: pytz>=2017.2 in c:\\users\\zl0423\\anaconda3\\lib\\site-packages (from pandas) (2021.3)\n",
      "Requirement already satisfied: numpy>=1.15.4 in c:\\users\\zl0423\\anaconda3\\lib\\site-packages (from pandas) (1.20.3)\n",
      "Requirement already satisfied: python-dateutil>=2.7.3 in c:\\users\\zl0423\\anaconda3\\lib\\site-packages (from pandas) (2.8.2)\n",
      "Requirement already satisfied: Flask>=1.0.4 in c:\\users\\zl0423\\anaconda3\\lib\\site-packages (from dash) (1.1.2)\n",
      "Requirement already satisfied: dash-core-components==2.0.0 in c:\\users\\zl0423\\anaconda3\\lib\\site-packages (from dash) (2.0.0)\n",
      "Requirement already satisfied: dash-html-components==2.0.0 in c:\\users\\zl0423\\anaconda3\\lib\\site-packages (from dash) (2.0.0)\n",
      "Requirement already satisfied: flask-compress in c:\\users\\zl0423\\anaconda3\\lib\\site-packages (from dash) (1.12)\n",
      "Requirement already satisfied: plotly>=5.0.0 in c:\\users\\zl0423\\anaconda3\\lib\\site-packages (from dash) (5.6.0)\n",
      "Requirement already satisfied: dash-table==5.0.0 in c:\\users\\zl0423\\anaconda3\\lib\\site-packages (from dash) (5.0.0)\n",
      "Requirement already satisfied: Jinja2>=2.10.1 in c:\\users\\zl0423\\anaconda3\\lib\\site-packages (from Flask>=1.0.4->dash) (2.11.3)\n",
      "Requirement already satisfied: Werkzeug>=0.15 in c:\\users\\zl0423\\anaconda3\\lib\\site-packages (from Flask>=1.0.4->dash) (2.0.2)\n",
      "Requirement already satisfied: click>=5.1 in c:\\users\\zl0423\\anaconda3\\lib\\site-packages (from Flask>=1.0.4->dash) (8.0.3)\n",
      "Requirement already satisfied: itsdangerous>=0.24 in c:\\users\\zl0423\\anaconda3\\lib\\site-packages (from Flask>=1.0.4->dash) (2.0.1)\n",
      "Requirement already satisfied: colorama in c:\\users\\zl0423\\anaconda3\\lib\\site-packages (from click>=5.1->Flask>=1.0.4->dash) (0.4.4)\n",
      "Requirement already satisfied: MarkupSafe>=0.23 in c:\\users\\zl0423\\anaconda3\\lib\\site-packages (from Jinja2>=2.10.1->Flask>=1.0.4->dash) (1.1.1)\n",
      "Requirement already satisfied: tenacity>=6.2.0 in c:\\users\\zl0423\\anaconda3\\lib\\site-packages (from plotly>=5.0.0->dash) (8.0.1)\n",
      "Requirement already satisfied: six in c:\\users\\zl0423\\anaconda3\\lib\\site-packages (from plotly>=5.0.0->dash) (1.16.0)\n",
      "Requirement already satisfied: brotli in c:\\users\\zl0423\\anaconda3\\lib\\site-packages (from flask-compress->dash) (1.0.9)\n"
     ]
    }
   ],
   "source": [
    "# Steps to setup development environment\n",
    "!pip3 install pandas dash\n",
    "# wget \"https://cf-courses-data.s3.us.cloud-object-storage.appdomain.cloud/IBM-DS0321EN-SkillsNetwork/datasets/spacex_launch_dash.csv\"\n",
    "# following code is a modified version of this skeleton which you can download with\n",
    "# wget \"https://cf-courses-data.s3.us.cloud-object-storage.appdomain.cloud/IBM-DS0321EN-SkillsNetwork/labs/module_3/spacex_dash_app.py\"\n",
    "# python3 spacex_dash_app.py"
   ]
  },
  {
   "cell_type": "code",
   "execution_count": 12,
   "id": "7dfcf844",
   "metadata": {},
   "outputs": [],
   "source": [
    "# Import required libraries\n",
    "import pandas as pd\n",
    "import dash\n",
    "import dash_html_components as html\n",
    "import dash_core_components as dcc\n",
    "from dash.dependencies import Input, Output\n",
    "import plotly.express as px"
   ]
  },
  {
   "cell_type": "code",
   "execution_count": 14,
   "id": "832c49e2",
   "metadata": {},
   "outputs": [],
   "source": [
    "# Read the airline data into pandas dataframe\n",
    "spacex_df = pd.read_csv(\"https://cf-courses-data.s3.us.cloud-object-storage.appdomain.cloud/IBM-DS0321EN-SkillsNetwork/datasets/spacex_launch_dash.csv\")\n",
    "max_payload = spacex_df['Payload Mass (kg)'].max()\n",
    "min_payload = spacex_df['Payload Mass (kg)'].min()"
   ]
  },
  {
   "cell_type": "code",
   "execution_count": 15,
   "id": "c12c5aad",
   "metadata": {},
   "outputs": [],
   "source": [
    "# Create a dash application\n",
    "app = dash.Dash(__name__)"
   ]
  },
  {
   "cell_type": "code",
   "execution_count": 16,
   "id": "40932ee3",
   "metadata": {},
   "outputs": [],
   "source": [
    "# Create an app layout\n",
    "app.layout = html.Div(children=[html.H1('SpaceX Launch Records Dashboard',\n",
    "                                        style={'textAlign': 'center', 'color': '#503D36',\n",
    "                                               'font-size': 40}),\n",
    "                                # TASK 1: Add a dropdown list to enable Launch Site selection\n",
    "                                # The default select value is for ALL sites\n",
    "                                # dcc.Dropdown(id='site-dropdown',...)\n",
    "                                dcc.Dropdown(id='site-dropdown',\n",
    "                                             options=[\n",
    "                                                     {'label': 'All Sites', 'value': 'ALL'},\n",
    "                                                     {'label': 'CCAFS LC-40', 'value': 'CCAFS LC-40'},\n",
    "                                                     {'label': 'VAFB SLC-4E', 'value': 'VAFB SLC-4E'},\n",
    "                                                     {'label': 'KSC LC-39A', 'value': 'KSC LC-39A'},\n",
    "                                                     {'label': 'CCAFS SLC-40', 'value': 'CCAFS SLC-40'}\n",
    "                                                     ],\n",
    "                                             value='ALL',\n",
    "                                             placeholder='Select a Launch Site here',\n",
    "                                             searchable=True\n",
    "                                             # style={'width':'80%','padding':'3px','font-size':'20px','text-align-last':'center'}\n",
    "                                             ),\n",
    "                                html.Br(),\n",
    "\n",
    "                                # TASK 2: Add a pie chart to show the total successful launches count for all sites\n",
    "                                # If a specific launch site was selected, show the Success vs. Failed counts for the site\n",
    "                                html.Div(dcc.Graph(id='success-pie-chart')),\n",
    "                                html.Br(),\n",
    "\n",
    "                                html.P(\"Payload range (Kg):\"),\n",
    "                                # TASK 3: Add a slider to select payload range\n",
    "                                #dcc.RangeSlider(id='payload-slider',...)\n",
    "                                dcc.RangeSlider(id='payload-slider',\n",
    "                                                min=0,\n",
    "                                                max=10000,\n",
    "                                                step=1000,\n",
    "                                                value=[min_payload, max_payload]\n",
    "                                                ),\n",
    "\n",
    "                                # TASK 4: Add a scatter chart to show the correlation between payload and launch success\n",
    "                                html.Div(dcc.Graph(id='success-payload-scatter-chart')),\n",
    "                                ])"
   ]
  },
  {
   "cell_type": "code",
   "execution_count": 18,
   "id": "9b47107c",
   "metadata": {},
   "outputs": [],
   "source": [
    "# TASK 3:\n",
    "# Add a callback function for `site-dropdown` as input, `success-pie-chart` as output\n",
    "@app.callback(Output(component_id='success-pie-chart', component_property='figure'),\n",
    "              Input(component_id='site-dropdown', component_property='value'))\n",
    "def get_pie_chart(entered_site):\n",
    "    filtered_df = spacex_df\n",
    "    if entered_site == 'ALL':\n",
    "        fig = px.pie(filtered_df, values='class', \n",
    "        names='Launch Site', \n",
    "        title='Success Count for all launch sites')\n",
    "        return fig\n",
    "    else:\n",
    "        # return the outcomes piechart for a selected site\n",
    "        filtered_df=spacex_df[spacex_df['Launch Site']== entered_site]\n",
    "        filtered_df=filtered_df.groupby(['Launch Site','class']).size().reset_index(name='class count')\n",
    "        fig=px.pie(filtered_df,values='class count',names='class',title=f\"Total Success Launches for site {entered_site}\")\n",
    "        return fig"
   ]
  },
  {
   "cell_type": "code",
   "execution_count": 19,
   "id": "faceb4ff",
   "metadata": {},
   "outputs": [],
   "source": [
    "# TASK 4:\n",
    "# Add a callback function for `site-dropdown` and `payload-slider` as inputs, `success-payload-scatter-chart` as output\n",
    "@app.callback(Output(component_id='success-payload-scatter-chart',component_property='figure'),\n",
    "                [Input(component_id='site-dropdown',component_property='value'),\n",
    "                Input(component_id='payload-slider',component_property='value')])\n",
    "def scatter(entered_site,payload):\n",
    "    filtered_df = spacex_df[spacex_df['Payload Mass (kg)'].between(payload[0],payload[1])]\n",
    "    # thought reusing filtered_df may cause issues, but tried it out of curiosity and it seems to be working fine\n",
    "    \n",
    "    if entered_site=='ALL':\n",
    "        fig=px.scatter(filtered_df,x='Payload Mass (kg)',y='class',color='Booster Version Category',title='Success count on Payload mass for all sites')\n",
    "        return fig\n",
    "    else:\n",
    "        fig=px.scatter(filtered_df[filtered_df['Launch Site']==entered_site],x='Payload Mass (kg)',y='class',color='Booster Version Category',title=f\"Success count on Payload mass for site {entered_site}\")\n",
    "        return fig"
   ]
  },
  {
   "cell_type": "code",
   "execution_count": null,
   "id": "7579ac0b",
   "metadata": {},
   "outputs": [
    {
     "name": "stdout",
     "output_type": "stream",
     "text": [
      "Dash is running on http://127.0.0.1:8050/\n",
      "\n",
      " * Serving Flask app \"__main__\" (lazy loading)\n",
      " * Environment: production\n",
      "\u001b[31m   WARNING: This is a development server. Do not use it in a production deployment.\u001b[0m\n",
      "\u001b[2m   Use a production WSGI server instead.\u001b[0m\n",
      " * Debug mode: off\n"
     ]
    },
    {
     "name": "stderr",
     "output_type": "stream",
     "text": [
      " * Running on http://127.0.0.1:8050/ (Press CTRL+C to quit)\n",
      "127.0.0.1 - - [04/Jul/2022 21:12:40] \"GET / HTTP/1.1\" 200 -\n",
      "127.0.0.1 - - [04/Jul/2022 21:12:40] \"GET /_dash-component-suites/dash/deps/polyfill@7.v2_5_1m1656990309.12.1.min.js HTTP/1.1\" 200 -\n",
      "127.0.0.1 - - [04/Jul/2022 21:12:40] \"GET /_dash-component-suites/dash/deps/react-dom@16.v2_5_1m1656990309.14.0.min.js HTTP/1.1\" 200 -\n",
      "127.0.0.1 - - [04/Jul/2022 21:12:40] \"GET /_dash-component-suites/dash/deps/react@16.v2_5_1m1656990309.14.0.min.js HTTP/1.1\" 200 -\n",
      "127.0.0.1 - - [04/Jul/2022 21:12:40] \"GET /_dash-component-suites/dash/deps/prop-types@15.v2_5_1m1656990309.8.1.min.js HTTP/1.1\" 200 -\n",
      "127.0.0.1 - - [04/Jul/2022 21:12:40] \"GET /_dash-component-suites/dash/dash-renderer/build/dash_renderer.v2_5_1m1656990309.min.js HTTP/1.1\" 200 -\n",
      "127.0.0.1 - - [04/Jul/2022 21:12:40] \"GET /_dash-component-suites/dash/dcc/dash_core_components.v2_5_0m1656990309.js HTTP/1.1\" 200 -\n",
      "127.0.0.1 - - [04/Jul/2022 21:12:40] \"GET /_dash-component-suites/dash/dcc/dash_core_components-shared.v2_5_0m1656990309.js HTTP/1.1\" 200 -\n",
      "127.0.0.1 - - [04/Jul/2022 21:12:40] \"GET /_dash-component-suites/dash/html/dash_html_components.v2_0_3m1656990309.min.js HTTP/1.1\" 200 -\n",
      "127.0.0.1 - - [04/Jul/2022 21:12:40] \"GET /_dash-component-suites/dash/dash_table/bundle.v5_1_3m1656990309.js HTTP/1.1\" 200 -\n",
      "127.0.0.1 - - [04/Jul/2022 21:12:40] \"GET /_dash-layout HTTP/1.1\" 200 -\n",
      "127.0.0.1 - - [04/Jul/2022 21:12:40] \"GET /_dash-dependencies HTTP/1.1\" 200 -\n",
      "127.0.0.1 - - [04/Jul/2022 21:12:40] \"GET /_favicon.ico?v=2.5.1 HTTP/1.1\" 200 -\n",
      "127.0.0.1 - - [04/Jul/2022 21:12:40] \"GET /_dash-component-suites/dash/dcc/async-dropdown.js HTTP/1.1\" 200 -\n",
      "127.0.0.1 - - [04/Jul/2022 21:12:40] \"GET /_dash-component-suites/dash/dcc/async-graph.js HTTP/1.1\" 200 -\n",
      "127.0.0.1 - - [04/Jul/2022 21:12:40] \"GET /_dash-component-suites/dash/dcc/async-slider.js HTTP/1.1\" 200 -\n",
      "127.0.0.1 - - [04/Jul/2022 21:12:40] \"GET /_dash-component-suites/dash/dcc/async-plotlyjs.js HTTP/1.1\" 200 -\n",
      "127.0.0.1 - - [04/Jul/2022 21:13:32] \"GET / HTTP/1.1\" 200 -\n",
      "127.0.0.1 - - [04/Jul/2022 21:13:32] \"GET /_dash-layout HTTP/1.1\" 200 -\n",
      "127.0.0.1 - - [04/Jul/2022 21:13:32] \"GET /_dash-dependencies HTTP/1.1\" 200 -\n",
      "127.0.0.1 - - [04/Jul/2022 21:13:32] \"GET /_dash-component-suites/dash/dcc/async-dropdown.js HTTP/1.1\" 200 -\n",
      "127.0.0.1 - - [04/Jul/2022 21:13:32] \"GET /_dash-component-suites/dash/dcc/async-graph.js HTTP/1.1\" 200 -\n",
      "127.0.0.1 - - [04/Jul/2022 21:13:32] \"GET /_dash-component-suites/dash/dcc/async-slider.js HTTP/1.1\" 200 -\n",
      "127.0.0.1 - - [04/Jul/2022 21:13:32] \"GET /_dash-component-suites/dash/dcc/async-plotlyjs.js HTTP/1.1\" 200 -\n",
      "127.0.0.1 - - [04/Jul/2022 21:13:36] \"GET / HTTP/1.1\" 200 -\n",
      "127.0.0.1 - - [04/Jul/2022 21:13:36] \"GET /_dash-layout HTTP/1.1\" 200 -\n",
      "127.0.0.1 - - [04/Jul/2022 21:13:36] \"GET /_dash-dependencies HTTP/1.1\" 200 -\n",
      "127.0.0.1 - - [04/Jul/2022 21:13:36] \"GET /_favicon.ico?v=2.5.1 HTTP/1.1\" 200 -\n",
      "127.0.0.1 - - [04/Jul/2022 21:13:36] \"GET /_dash-component-suites/dash/dcc/async-dropdown.js HTTP/1.1\" 200 -\n",
      "127.0.0.1 - - [04/Jul/2022 21:13:36] \"GET /_dash-component-suites/dash/dcc/async-graph.js HTTP/1.1\" 200 -\n",
      "127.0.0.1 - - [04/Jul/2022 21:13:36] \"GET /_dash-component-suites/dash/dcc/async-slider.js HTTP/1.1\" 200 -\n",
      "127.0.0.1 - - [04/Jul/2022 21:13:36] \"GET /_dash-component-suites/dash/dcc/async-plotlyjs.js HTTP/1.1\" 200 -\n",
      "127.0.0.1 - - [04/Jul/2022 21:13:38] \"GET / HTTP/1.1\" 200 -\n",
      "127.0.0.1 - - [04/Jul/2022 21:13:38] \"GET /_dash-layout HTTP/1.1\" 200 -\n",
      "127.0.0.1 - - [04/Jul/2022 21:13:38] \"GET /_dash-dependencies HTTP/1.1\" 200 -\n",
      "127.0.0.1 - - [04/Jul/2022 21:13:38] \"GET /_favicon.ico?v=2.5.1 HTTP/1.1\" 200 -\n",
      "127.0.0.1 - - [04/Jul/2022 21:13:38] \"GET /_dash-component-suites/dash/dcc/async-dropdown.js HTTP/1.1\" 200 -\n",
      "127.0.0.1 - - [04/Jul/2022 21:13:38] \"GET /_dash-component-suites/dash/dcc/async-graph.js HTTP/1.1\" 200 -\n",
      "127.0.0.1 - - [04/Jul/2022 21:13:38] \"GET /_dash-component-suites/dash/dcc/async-slider.js HTTP/1.1\" 200 -\n",
      "127.0.0.1 - - [04/Jul/2022 21:13:38] \"GET /_dash-component-suites/dash/dcc/async-plotlyjs.js HTTP/1.1\" 200 -\n"
     ]
    }
   ],
   "source": [
    "# Run the app\n",
    "if __name__ == '__main__':\n",
    "    app.run_server()"
   ]
  },
  {
   "cell_type": "code",
   "execution_count": null,
   "id": "60f1e38c",
   "metadata": {},
   "outputs": [],
   "source": []
  }
 ],
 "metadata": {
  "kernelspec": {
   "display_name": "Python 3 (ipykernel)",
   "language": "python",
   "name": "python3"
  },
  "language_info": {
   "codemirror_mode": {
    "name": "ipython",
    "version": 3
   },
   "file_extension": ".py",
   "mimetype": "text/x-python",
   "name": "python",
   "nbconvert_exporter": "python",
   "pygments_lexer": "ipython3",
   "version": "3.9.7"
  }
 },
 "nbformat": 4,
 "nbformat_minor": 5
}
